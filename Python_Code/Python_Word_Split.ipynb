{
 "cells": [
  {
   "cell_type": "code",
   "execution_count": 1,
   "metadata": {},
   "outputs": [
    {
     "name": "stdout",
     "output_type": "stream",
     "text": [
      "단어를 입력하시오:Fragmantion\n",
      "문자 사이에 끼워넣을 기호:*\n",
      "F*r*a*g*m*a*n*t*i*o*n\n"
     ]
    }
   ],
   "source": [
    "word = '' ; split = ''\n",
    "def word_split(word,split):\n",
    "    word = input('단어를 입력하시오:')\n",
    "    max_len = 1000\n",
    "    if len(word) <= max_len:\n",
    "        split = input('문자 사이에 끼워넣을 기호:')\n",
    "        word = word.replace(' ','') #공백은 제거됨.\n",
    "        for i in range(0,len(word)):\n",
    "            if i != len(word)-1:\n",
    "                print(word[i], end=split)\n",
    "            elif i == len(word)-1:\n",
    "                print(word[i])\n",
    "    else:\n",
    "        raise Exception('최대 길이 초과(%d字 / %d字)'%(len(word),max_len))\n",
    "try:\n",
    "    word_split(word,split)\n",
    "except Exception as e:\n",
    "    print('입력이 올바르지 않습니다.',e)"
   ]
  }
 ],
 "metadata": {
  "kernelspec": {
   "display_name": "Python 3",
   "language": "python",
   "name": "python3"
  },
  "language_info": {
   "codemirror_mode": {
    "name": "ipython",
    "version": 3
   },
   "file_extension": ".py",
   "mimetype": "text/x-python",
   "name": "python",
   "nbconvert_exporter": "python",
   "pygments_lexer": "ipython3",
   "version": "3.7.3"
  }
 },
 "nbformat": 4,
 "nbformat_minor": 2
}
