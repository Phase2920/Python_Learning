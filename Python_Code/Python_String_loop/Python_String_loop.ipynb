{
 "cells": [
  {
   "cell_type": "markdown",
   "metadata": {},
   "source": [
    "## Python_String_loop\n",
    "### 두 정수를 입력받아, 문자열의 길이를 반복 출력하는 프로그램."
   ]
  },
  {
   "cell_type": "code",
   "execution_count": 1,
   "metadata": {
    "scrolled": true
   },
   "outputs": [
    {
     "name": "stdout",
     "output_type": "stream",
     "text": [
      "구분 길이와 생성횟수:4 10\n",
      " 杏幹普暈 責魯現愾 渴澎否屑 踐窟沆鼠 去瘙肥行 澈袖戀闊 富頻漠斥 退駝欄情 筏擅戒培 撒名紅絨\n"
     ]
    }
   ],
   "source": [
    "import random\n",
    "import time\n",
    "\n",
    "Length = 0 ; loop = 0\n",
    "txt = open(\"C:/Sample_text.txt\", 'r', encoding='utf-8') #깨짐 방지.\n",
    "line = txt.readline()\n",
    "txt.close()\n",
    "\n",
    "def char_output(Length,loop):\n",
    "    Length, loop = map(int,input('구분 길이와 생성횟수:').split())\n",
    "    if Length >=1 and loop >=1:\n",
    "        Alpha = line\n",
    "        output = ''\n",
    "        for j in range(loop): #반복 횟수\n",
    "            output = output + ' '\n",
    "            for i in range(0,Length): #길이 생성.\n",
    "                output = output + random.choice(Alpha) #임의로 아무 문자열을 하나 가져옵니다.\n",
    "        print(output)\n",
    "    else:\n",
    "        raise Exception('음수는 입력할 수 없습니다.')\n",
    "try:\n",
    "    char_output(Length,loop)\n",
    "except Exception as e: #에러 메세지\n",
    "    print('입력이 바르지 않습니다.',e)"
   ]
  }
 ],
 "metadata": {
  "kernelspec": {
   "display_name": "Python 3",
   "language": "python",
   "name": "python3"
  },
  "language_info": {
   "codemirror_mode": {
    "name": "ipython",
    "version": 3
   },
   "file_extension": ".py",
   "mimetype": "text/x-python",
   "name": "python",
   "nbconvert_exporter": "python",
   "pygments_lexer": "ipython3",
   "version": "3.7.3"
  }
 },
 "nbformat": 4,
 "nbformat_minor": 2
}
