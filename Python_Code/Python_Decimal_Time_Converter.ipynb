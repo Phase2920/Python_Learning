{
 "cells": [
  {
   "cell_type": "markdown",
   "metadata": {},
   "source": [
    "## 시간 > T값\n",
    "시간을 십진시간으로 변환해주는 프로그램."
   ]
  },
  {
   "cell_type": "code",
   "execution_count": 1,
   "metadata": {},
   "outputs": [
    {
     "name": "stdout",
     "output_type": "stream",
     "text": [
      "시분초를 입력하시오(24시간 형식):19 20 24\n",
      "19時 20分 24秒 ▶ total_sec: 69624 tick: 1392480\n",
      "T805-1440\n"
     ]
    }
   ],
   "source": [
    "hour=0 ; minute=0 ; second=0 # 초기값.\n",
    "def decimal_time(hour,minute,second):\n",
    "    hour, minute, second = map(int,input('시분초를 입력하시오(24시간 형식):').split())\n",
    "    if 0 <= hour <= 23 and 0 <= minute <= 59 and 0 <= second <= 59: #條件.\n",
    "        to_sec = hour*3600 + minute*60 + second\n",
    "        total_tick = to_sec*20\n",
    "        print('%d時'%hour,'%d分'%minute,'%d秒 ▶'%second,\n",
    "              'total_sec: %05d'%to_sec,'tick: %07d'%total_tick)\n",
    "        one_day = 24*60*60*20 #20ticks = 1sec, 1728000ticks = 1day\n",
    "        T_level = total_tick / (one_day/1000) #86400 seconds = 1day\n",
    "        div_tick = total_tick % (one_day/1000)\n",
    "        tran_result = 'T%03d-%04d'%(T_level,div_tick)\n",
    "        print(tran_result)\n",
    "    else:\n",
    "        raise Exception('올바른 시간 형식이 아닙니다.')\n",
    "try:\n",
    "    decimal_time(hour,minute,second)\n",
    "except Exception as e: #에러 메세지\n",
    "    print('입력이 바르지 않습니다.',e)"
   ]
  },
  {
   "cell_type": "markdown",
   "metadata": {},
   "source": [
    "## T값 > 시간\n",
    "T값을 시간으로 변환해주는 프로그램."
   ]
  },
  {
   "cell_type": "code",
   "execution_count": 2,
   "metadata": {},
   "outputs": [
    {
     "name": "stdout",
     "output_type": "stream",
     "text": [
      "십진시간 형식을 입력하시오:904-1619\n",
      "21時 43分 06.55秒\n"
     ]
    }
   ],
   "source": [
    "T_level = 0 ; Tick = 0\n",
    "def decimal_T(T_level,Tick):\n",
    "    T_level, Tick = map(int, input('십진시간 형식을 입력하시오:').split('-'))\n",
    "    if 0 <= T_level <= 999 and 0<= Tick <= 1727:\n",
    "        Total_Tick = T_level * (86.4*20) + Tick\n",
    "        Total_Sec = (Total_Tick / 20) % 60\n",
    "        Total_Minute = (Total_Tick / 1200) % 60\n",
    "        Total_Hour = (Total_Tick / 72000) % 24\n",
    "        if Total_Sec <10:\n",
    "            Tran_result = '%02d時 %02d分 0%.2f秒' % (Total_Hour,Total_Minute,Total_Sec)\n",
    "            print(Tran_result)\n",
    "        elif Total_Sec >= 10:\n",
    "            Tran_result = '%02d時 %02d分 %.2f秒' % (Total_Hour,Total_Minute,Total_Sec)\n",
    "            print(Tran_result)\n",
    "    else:\n",
    "        raise Exception('올바른 시간 형식이 아닙니다.')\n",
    "try:\n",
    "    decimal_T(T_level,Tick)\n",
    "except Exception as e: #에러 메세지\n",
    "    print('입력이 바르지 않습니다.',e)"
   ]
  }
 ],
 "metadata": {
  "kernelspec": {
   "display_name": "Python 3",
   "language": "python",
   "name": "python3"
  },
  "language_info": {
   "codemirror_mode": {
    "name": "ipython",
    "version": 3
   },
   "file_extension": ".py",
   "mimetype": "text/x-python",
   "name": "python",
   "nbconvert_exporter": "python",
   "pygments_lexer": "ipython3",
   "version": "3.7.3"
  }
 },
 "nbformat": 4,
 "nbformat_minor": 2
}
