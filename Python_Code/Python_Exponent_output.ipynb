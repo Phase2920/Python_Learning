{
 "cells": [
  {
   "cell_type": "markdown",
   "metadata": {},
   "source": [
    "## Python_Exponent_output\n",
    "두개의 정수를 입력받아서 거듭제곱을 연속으로 출력하는 프로그램."
   ]
  },
  {
   "cell_type": "code",
   "execution_count": 1,
   "metadata": {},
   "outputs": [
    {
     "name": "stdout",
     "output_type": "stream",
     "text": [
      "밑 x와 마지막 지수값 y를 입력하세요:2 5\n",
      "실행을 시작하겠습니다. 잠시만 기다려 주십시오.\n",
      "2 의 0 제곱은 1 입니다.\n",
      "2 의 1 제곱은 2 입니다.\n",
      "2 의 2 제곱은 4 입니다.\n",
      "2 의 3 제곱은 8 입니다.\n",
      "2 의 4 제곱은 16 입니다.\n",
      "2 의 5 제곱은 32 입니다.\n",
      "실행이 끝났습니다.\n"
     ]
    }
   ],
   "source": [
    "import time\n",
    "key = 0 ; exp = 0\n",
    "def exp_key(key,exp):\n",
    "    key,exp = map(int, input('밑 x와 마지막 지수값 y를 입력하세요:').split())\n",
    "    if key>=2 and exp>=0:\n",
    "        idx = []\n",
    "        idx = list(range(0,exp+1)) #exp값을 포함(包含)해야하므로 exp에 1을 더해줍니다.\n",
    "        print('실행을 시작하겠습니다. 잠시만 기다려 주십시오.')\n",
    "        time.sleep(0.75) #750ms 즉, 0.75秒.\n",
    "        for number in idx: #변수 Number을 리스트 idx에서 가져옵니다.\n",
    "            time.sleep(0.1) #100ms\n",
    "            idx[number] = key**number\n",
    "            print(key,'의',number,'제곱은',idx[number],'입니다.')\n",
    "    elif key<2: #밑이 잘못되었을 때 오류(誤謬)\n",
    "            print('밑은 1보다 커야합니다. 다시 시도하세요.')\n",
    "    elif exp<0: #지수가 잘못되었을 때 오류(誤謬)\n",
    "            print('음수 지수는 지원하지 않습니다. 다시 시도하세요.')\n",
    "    elif type(key) !=int or type(exp) !=int : #key또는 exp가 int가 아닐때\n",
    "        print('입력이 올바르지 않습니다. 다시 시도하세요.')\n",
    "    else:\n",
    "        raise Exception('올바른 입력이 아닙니다.')\n",
    "        time.sleep(0.875) #875ms\n",
    "    print('실행이 끝났습니다.')\n",
    "try:\n",
    "    exp_key(key,exp)\n",
    "except Exception as e: #에러 메세지\n",
    "    print('입력이 바르지 않습니다.',e)"
   ]
  }
 ],
 "metadata": {
  "kernelspec": {
   "display_name": "Python 3",
   "language": "python",
   "name": "python3"
  },
  "language_info": {
   "codemirror_mode": {
    "name": "ipython",
    "version": 3
   },
   "file_extension": ".py",
   "mimetype": "text/x-python",
   "name": "python",
   "nbconvert_exporter": "python",
   "pygments_lexer": "ipython3",
   "version": "3.7.3"
  }
 },
 "nbformat": 4,
 "nbformat_minor": 2
}
