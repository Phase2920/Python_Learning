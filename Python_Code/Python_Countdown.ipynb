{
 "cells": [
  {
   "cell_type": "markdown",
   "metadata": {},
   "source": [
    "## Python_Countdown\n",
    "파이썬을 이용한 카운트다운 프로그램"
   ]
  },
  {
   "cell_type": "code",
   "execution_count": 1,
   "metadata": {},
   "outputs": [
    {
     "name": "stdout",
     "output_type": "stream",
     "text": [
      "카운트 다운을 할 시간을 입력하세요.5\n",
      "5초 남았습니다.\n",
      "4초 남았습니다.\n",
      "3초 남았습니다.\n",
      "2초 남았습니다.\n",
      "1초 남았습니다.\n",
      "0초 남았습니다.\n",
      "카운트 다운이 종료되었습니다.\n"
     ]
    }
   ],
   "source": [
    "import time\n",
    "number = 0\n",
    "def countdown(number):\n",
    "    number = int(input('카운트 다운을 할 시간을 입력하세요.'))\n",
    "    if number >= 0:\n",
    "        for second in range(number,-1,-1):\n",
    "            print(second,'초 남았습니다.',sep='')\n",
    "            time.sleep(1) #1000ms\n",
    "        print('카운트 다운이 종료되었습니다.')\n",
    "    else:\n",
    "        raise Exception('음수 시간은 존재하지 않습니다.')\n",
    "try:\n",
    "    countdown(number)\n",
    "except Exception as e: #에러 메세지\n",
    "    print('입력이 바르지 않습니다.',e)"
   ]
  }
 ],
 "metadata": {
  "kernelspec": {
   "display_name": "Python 3",
   "language": "python",
   "name": "python3"
  },
  "language_info": {
   "codemirror_mode": {
    "name": "ipython",
    "version": 3
   },
   "file_extension": ".py",
   "mimetype": "text/x-python",
   "name": "python",
   "nbconvert_exporter": "python",
   "pygments_lexer": "ipython3",
   "version": "3.7.3"
  }
 },
 "nbformat": 4,
 "nbformat_minor": 2
}
