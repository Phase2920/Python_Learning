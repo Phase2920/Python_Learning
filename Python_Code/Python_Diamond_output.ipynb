{
 "cells": [
  {
   "cell_type": "markdown",
   "metadata": {},
   "source": [
    "## 정수를 입력받아서 마름모 모양 츨력하는 프로그램\n",
    "깊이 레벨값을 입력받아서 그 값 만큼 별 모양을 출력합니다."
   ]
  },
  {
   "cell_type": "code",
   "execution_count": 1,
   "metadata": {
    "scrolled": true
   },
   "outputs": [
    {
     "name": "stdout",
     "output_type": "stream",
     "text": [
      "깊이(depth) 레벨을 입력하세요:7\n",
      "출력하고 싶은 문자를 입력하세요:*\n",
      "       *       \n",
      "      ***      \n",
      "     *****     \n",
      "    *******    \n",
      "   *********   \n",
      "  ***********  \n",
      " ************* \n",
      "***************\n",
      " ************* \n",
      "  ***********  \n",
      "   *********   \n",
      "    *******    \n",
      "     *****     \n",
      "      ***      \n",
      "       *       \n"
     ]
    }
   ],
   "source": [
    "import time\n",
    "number = 0 ; char =''\n",
    "def time_str(number,char):\n",
    "    number = int(input('깊이(depth) 레벨을 입력하세요:'))\n",
    "    char = input('출력하고 싶은 문자를 입력하세요:')\n",
    "    if number >= 0 and number <= 30:\n",
    "        inc = list(range(0,number,1))\n",
    "        dec = list(range(number,-1,-1))\n",
    "        for i in inc: #피라미드 모양\n",
    "            print(' '*(number-i),char*i, char ,char*i,' '*(number-i),sep='')\n",
    "            time.sleep(0.1)    \n",
    "        for i in dec: #역 피라미드 모양\n",
    "            print(' '*(number-i),char*i, char ,char*i,' '*(number-i),sep='')\n",
    "            time.sleep(0.1)\n",
    "    else:\n",
    "        raise Exception('올바른 입력이 아닙니다.')\n",
    "try:\n",
    "    time_str(number,char)\n",
    "except Exception as e: #에러 메세지\n",
    "    print('입력이 바르지 않습니다.',e)"
   ]
  }
 ],
 "metadata": {
  "kernelspec": {
   "display_name": "Python 3",
   "language": "python",
   "name": "python3"
  },
  "language_info": {
   "codemirror_mode": {
    "name": "ipython",
    "version": 3
   },
   "file_extension": ".py",
   "mimetype": "text/x-python",
   "name": "python",
   "nbconvert_exporter": "python",
   "pygments_lexer": "ipython3",
   "version": "3.7.3"
  }
 },
 "nbformat": 4,
 "nbformat_minor": 2
}
