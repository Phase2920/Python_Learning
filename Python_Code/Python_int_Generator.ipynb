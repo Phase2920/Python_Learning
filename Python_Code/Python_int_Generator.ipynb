{
 "cells": [
  {
   "cell_type": "markdown",
   "metadata": {},
   "source": [
    "## Python_int_Generator\n",
    "파이썬 정수 생성기입니다. (양수전용)"
   ]
  },
  {
   "cell_type": "code",
   "execution_count": 1,
   "metadata": {},
   "outputs": [
    {
     "name": "stdout",
     "output_type": "stream",
     "text": [
      "첫 숫자(최소값:0):0\n",
      "마지막 숫자(최소값:1):127\n",
      "간격(최소값:1):1\n",
      "실행하시겠습니까? (y/n)y\n",
      "0 1 2 3 4 5 6 7 8 9 10 11 12 13 14 15 16 17 18 19 20 21 22 23 24 25 26 27 28 29 30 31 32 33 34 35 36 37 38 39 40 41 42 43 44 45 46 47 48 49 50 51 52 53 54 55 56 57 58 59 60 61 62 63 64 65 66 67 68 69 70 71 72 73 74 75 76 77 78 79 80 81 82 83 84 85 86 87 88 89 90 91 92 93 94 95 96 97 98 99 100 101 102 103 104 105 106 107 108 109 110 111 112 113 114 115 116 117 118 119 120 121 122 123 124 125 126 127 \n",
      "총 128개가 생성되었습니다.\n"
     ]
    }
   ],
   "source": [
    "import time\n",
    "start_number=0 ; end_number=0 ; pass_number=0\n",
    "def num_gen(start_number,end_number,pass_number):\n",
    "    start_number = int(input('첫 숫자(최소값:0):'))\n",
    "    end_number = int(input('마지막 숫자(최소값:1):'))\n",
    "    pass_number = int(input('간격(최소값:1):'))\n",
    "    if start_number >=0 and end_number >=1 and pass_number >= 1 and start_number <= end_number:\n",
    "        nunmber_count = len(list(range(start_number,end_number+1,pass_number)))\n",
    "        decide = input('실행하시겠습니까? (y/n)') #y이면 실행, n이면 종료.\n",
    "        if decide == 'y' and start_number <= end_number:\n",
    "            for i in range(start_number,end_number+1,pass_number):\n",
    "                print(i,end=' ')\n",
    "                time.sleep(0.01) #10ms\n",
    "            print('\\n총 %d개가 생성되었습니다.'%nunmber_count) #%d는 정수형 표현식.\n",
    "        elif decide == 'n' and start_number <= end_number:\n",
    "            print('\\n실행되지 않았습니다.')\n",
    "    else:\n",
    "        raise Exception('음수는 지원하지 않습니다.')\n",
    "try: \n",
    "    num_gen(start_number,end_number,pass_number)\n",
    "except Exception as e: #에러 메세지\n",
    "    print('입력이 바르지 않습니다.',e)"
   ]
  }
 ],
 "metadata": {
  "kernelspec": {
   "display_name": "Python 3",
   "language": "python",
   "name": "python3"
  },
  "language_info": {
   "codemirror_mode": {
    "name": "ipython",
    "version": 3
   },
   "file_extension": ".py",
   "mimetype": "text/x-python",
   "name": "python",
   "nbconvert_exporter": "python",
   "pygments_lexer": "ipython3",
   "version": "3.7.3"
  }
 },
 "nbformat": 4,
 "nbformat_minor": 2
}
