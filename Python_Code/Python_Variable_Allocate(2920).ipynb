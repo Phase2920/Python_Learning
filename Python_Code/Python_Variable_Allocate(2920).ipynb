{
 "cells": [
  {
   "cell_type": "markdown",
   "metadata": {},
   "source": [
    "##  Python_Variable_Allocate\n",
    "이 소스는 변수 이름과 숫자를 받아, 이름을 조합하여 변수를 여러 개 만드는 프로그램입니다. 따라서, 이 소스는 다음과 같은 特徵이 있습니다.  \n",
    "I. 변수와 숫자를 반드시 조합해야합니다.  \n",
    "II. 숫자는 0부터 시작합니다.  \n",
    "III. 생성된 변수는 빈 리스트 형태이므로, None이 아님을 주의하세요."
   ]
  },
  {
   "cell_type": "code",
   "execution_count": 1,
   "metadata": {},
   "outputs": [
    {
     "name": "stdout",
     "output_type": "stream",
     "text": [
      "변수 등록:PROTEST\n",
      "변수에 붙일 번호의 갯수(0부터 시작):9\n",
      "처리가 완료되었습니다 - 변수이름:PROTEST, 생성변수의 범위: 0 ~ 9)\n"
     ]
    }
   ],
   "source": [
    "var_name='' ; var_limit = 0 #문자 초기값은 '', 숫자 초기값은 0\n",
    "def var_allocate(var_name,var_limit):\n",
    "    if var_limit >= 0:\n",
    "        var_name = str(input('변수 등록:'))\n",
    "        var_limit = int(input('변수에 붙일 번호의 갯수(0부터 시작):'))\n",
    "        for i in range(0,var_limit+1):\n",
    "            globals()['%s{}'.format(i) % var_name] = [] #빈 변수 생성    \n",
    "        print('처리가 완료되었습니다 - 변수이름:%s, 생성변수의 범위: 0 ~ %d)' % (var_name,var_limit))\n",
    "    else:\n",
    "        raise Exception('음수는 할당할 수 없습니다.')\n",
    "try:\n",
    "    var_allocate(var_name,var_limit)\n",
    "except Exception as e: #에러 메세지\n",
    "    print('입력이 바르지 않습니다.',e)"
   ]
  }
 ],
 "metadata": {
  "kernelspec": {
   "display_name": "Python 3",
   "language": "python",
   "name": "python3"
  },
  "language_info": {
   "codemirror_mode": {
    "name": "ipython",
    "version": 3
   },
   "file_extension": ".py",
   "mimetype": "text/x-python",
   "name": "python",
   "nbconvert_exporter": "python",
   "pygments_lexer": "ipython3",
   "version": "3.7.3"
  }
 },
 "nbformat": 4,
 "nbformat_minor": 2
}
